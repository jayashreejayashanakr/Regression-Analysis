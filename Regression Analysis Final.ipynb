{
 "cells": [
  {
   "cell_type": "code",
   "execution_count": 1,
   "metadata": {},
   "outputs": [
    {
     "name": "stderr",
     "output_type": "stream",
     "text": [
      "C:\\ProgramData\\Anaconda3\\lib\\site-packages\\statsmodels\\compat\\pandas.py:56: FutureWarning: The pandas.core.datetools module is deprecated and will be removed in a future version. Please use the pandas.tseries module instead.\n",
      "  from pandas.core import datetools\n"
     ]
    }
   ],
   "source": [
    "#Import all the required Libraries\n",
    "\n",
    "import pandas as pd\n",
    "import numpy as np\n",
    "import matplotlib.pyplot as plt\n",
    "import seaborn as sns\n",
    "import statsmodels.api as sm\n",
    "import re\n",
    "from mpl_toolkits.mplot3d import Axes3D"
   ]
  },
  {
   "cell_type": "code",
   "execution_count": 2,
   "metadata": {
    "collapsed": true
   },
   "outputs": [],
   "source": [
    "#Read the CSV file\n",
    "data = pd.read_csv('C:/COURSES/Regression Analysis/Regression_Simple.csv')"
   ]
  },
  {
   "cell_type": "code",
   "execution_count": 4,
   "metadata": {},
   "outputs": [],
   "source": [
    "#Rename the columns\n",
    "data.columns = ['School', 'Rank_2016', 'Rank_2015', 'Rank_2016_Index_Score',\n",
    "       'Rank_2015_Index_Score', 'BMI-3', '2016_Average_Salary',\n",
    "       '2016_Job_Placement_Post_MBA','Avg_Salary_increas_from_2015_to_2016',\n",
    "       '2015_Average_Salary', '2015_Job_Placement_post_MBA']"
   ]
  },
  {
   "cell_type": "code",
   "execution_count": 5,
   "metadata": {},
   "outputs": [
    {
     "name": "stdout",
     "output_type": "stream",
     "text": [
      "(89, 11)\n",
      "<class 'pandas.core.frame.DataFrame'>\n",
      "RangeIndex: 89 entries, 0 to 88\n",
      "Data columns (total 11 columns):\n",
      "School                                  89 non-null object\n",
      "Rank_2016                               89 non-null int64\n",
      "Rank_2015                               89 non-null int64\n",
      "Rank_2016_Index_Score                   89 non-null float64\n",
      "Rank_2015_Index_Score                   89 non-null float64\n",
      "BMI-3                                   89 non-null int64\n",
      "2016_Average_Salary                     87 non-null object\n",
      "2016_Job_Placement_Post_MBA             87 non-null object\n",
      "Avg_Salary_increas_from_2015_to_2016    89 non-null object\n",
      "2015_Average_Salary                     89 non-null object\n",
      "2015_Job_Placement_post_MBA             89 non-null object\n",
      "dtypes: float64(2), int64(3), object(6)\n",
      "memory usage: 7.7+ KB\n",
      "None\n",
      "       Rank_2016  Rank_2015  Rank_2016_Index_Score  Rank_2015_Index_Score  \\\n",
      "count  89.000000  89.000000              89.000000              89.000000   \n",
      "mean   45.000000  45.000000              62.856404              59.000337   \n",
      "std    25.836021  25.774371              16.876958              23.104291   \n",
      "min     1.000000   1.000000              24.000000              25.380000   \n",
      "25%    23.000000  23.000000              50.700000              39.220000   \n",
      "50%    45.000000  45.000000              62.300000              60.240000   \n",
      "75%    67.000000  67.000000              75.300000              76.780000   \n",
      "max    89.000000  82.000000             100.000000             100.000000   \n",
      "\n",
      "           BMI-3  \n",
      "count  89.000000  \n",
      "mean    4.696629  \n",
      "std     1.472509  \n",
      "min     2.000000  \n",
      "25%     4.000000  \n",
      "50%     5.000000  \n",
      "75%     5.000000  \n",
      "max     7.000000  \n"
     ]
    }
   ],
   "source": [
    "#Summary Statistics of the data\n",
    "print(data.shape)\n",
    "print(data.info())\n",
    "print(data.describe())"
   ]
  },
  {
   "cell_type": "code",
   "execution_count": 6,
   "metadata": {},
   "outputs": [
    {
     "data": {
      "text/plain": [
       "School                                  0\n",
       "Rank_2016                               0\n",
       "Rank_2015                               0\n",
       "Rank_2016_Index_Score                   0\n",
       "Rank_2015_Index_Score                   0\n",
       "BMI-3                                   0\n",
       "2016_Average_Salary                     2\n",
       "2016_Job_Placement_Post_MBA             2\n",
       "Avg_Salary_increas_from_2015_to_2016    0\n",
       "2015_Average_Salary                     0\n",
       "2015_Job_Placement_post_MBA             0\n",
       "dtype: int64"
      ]
     },
     "execution_count": 6,
     "metadata": {},
     "output_type": "execute_result"
    }
   ],
   "source": [
    "#Checking for Nuls\n",
    "data.isnull().sum()"
   ]
  },
  {
   "cell_type": "code",
   "execution_count": 7,
   "metadata": {
    "collapsed": true
   },
   "outputs": [],
   "source": [
    "#Treating Null values - Replacing with 0\n",
    "data['2016_Average_Salary'].fillna(0, inplace = True)\n",
    "data['2016_Job_Placement_Post_MBA'].fillna(0, inplace = True)"
   ]
  },
  {
   "cell_type": "code",
   "execution_count": 8,
   "metadata": {
    "collapsed": true
   },
   "outputs": [],
   "source": [
    "#Define a function to convert string values in salary column to float\n",
    "def str_float(_sal): return float(re.sub(r'[^0-9.]', '', str(_sal)))\n",
    "#Convert all strings to float\n",
    "data['2016_Job_Placement_Post_MBA'] = data['2016_Job_Placement_Post_MBA'].map(lambda x : str_float(x) if pd.notnull(x) else x )\n",
    "data['2016_Average_Salary'] = data['2016_Average_Salary'].map(lambda x : str_float(x) if pd.notnull(x) else x )\n",
    "data['2015_Job_Placement_post_MBA'] = data['2015_Job_Placement_post_MBA'].map(lambda x : str_float(x) if pd.notnull(x) else x )\n",
    "data['2015_Average_Salary'] = data['2015_Average_Salary'].map(lambda x : str_float(x) if pd.notnull(x) else x )"
   ]
  },
  {
   "cell_type": "code",
   "execution_count": 9,
   "metadata": {
    "collapsed": true
   },
   "outputs": [],
   "source": [
    "# Impute 0.0 with the column mean value \n",
    "data['2016_Average_Salary'] = data['2016_Average_Salary'].map( lambda x : data['2016_Average_Salary'].mean() if x == 0 else x)\n",
    "data['2016_Job_Placement_Post_MBA'] = data['2016_Job_Placement_Post_MBA'].map( lambda x : data['2016_Job_Placement_Post_MBA'].mean() if x == 0 else x)"
   ]
  },
  {
   "cell_type": "code",
   "execution_count": 10,
   "metadata": {},
   "outputs": [
    {
     "data": {
      "text/html": [
       "<div>\n",
       "<style>\n",
       "    .dataframe thead tr:only-child th {\n",
       "        text-align: right;\n",
       "    }\n",
       "\n",
       "    .dataframe thead th {\n",
       "        text-align: left;\n",
       "    }\n",
       "\n",
       "    .dataframe tbody tr th {\n",
       "        vertical-align: top;\n",
       "    }\n",
       "</style>\n",
       "<table border=\"1\" class=\"dataframe\">\n",
       "  <thead>\n",
       "    <tr style=\"text-align: right;\">\n",
       "      <th></th>\n",
       "      <th>Rank_2016</th>\n",
       "      <th>Rank_2015</th>\n",
       "      <th>Rank_2016_Index_Score</th>\n",
       "      <th>Rank_2015_Index_Score</th>\n",
       "      <th>BMI-3</th>\n",
       "      <th>2016_Average_Salary</th>\n",
       "      <th>2016_Job_Placement_Post_MBA</th>\n",
       "      <th>2015_Average_Salary</th>\n",
       "      <th>2015_Job_Placement_post_MBA</th>\n",
       "    </tr>\n",
       "  </thead>\n",
       "  <tbody>\n",
       "    <tr>\n",
       "      <th>Rank_2016</th>\n",
       "      <td>1.000000</td>\n",
       "      <td>0.905634</td>\n",
       "      <td>-0.980750</td>\n",
       "      <td>-0.900291</td>\n",
       "      <td>-0.347387</td>\n",
       "      <td>-0.837604</td>\n",
       "      <td>-0.620583</td>\n",
       "      <td>-0.838824</td>\n",
       "      <td>-0.630084</td>\n",
       "    </tr>\n",
       "    <tr>\n",
       "      <th>Rank_2015</th>\n",
       "      <td>0.905634</td>\n",
       "      <td>1.000000</td>\n",
       "      <td>-0.901810</td>\n",
       "      <td>-0.996163</td>\n",
       "      <td>-0.290431</td>\n",
       "      <td>-0.817826</td>\n",
       "      <td>-0.580386</td>\n",
       "      <td>-0.803622</td>\n",
       "      <td>-0.616268</td>\n",
       "    </tr>\n",
       "    <tr>\n",
       "      <th>Rank_2016_Index_Score</th>\n",
       "      <td>-0.980750</td>\n",
       "      <td>-0.901810</td>\n",
       "      <td>1.000000</td>\n",
       "      <td>0.903533</td>\n",
       "      <td>0.326669</td>\n",
       "      <td>0.858608</td>\n",
       "      <td>0.663893</td>\n",
       "      <td>0.851680</td>\n",
       "      <td>0.664604</td>\n",
       "    </tr>\n",
       "    <tr>\n",
       "      <th>Rank_2015_Index_Score</th>\n",
       "      <td>-0.900291</td>\n",
       "      <td>-0.996163</td>\n",
       "      <td>0.903533</td>\n",
       "      <td>1.000000</td>\n",
       "      <td>0.291311</td>\n",
       "      <td>0.820692</td>\n",
       "      <td>0.600856</td>\n",
       "      <td>0.804283</td>\n",
       "      <td>0.636239</td>\n",
       "    </tr>\n",
       "    <tr>\n",
       "      <th>BMI-3</th>\n",
       "      <td>-0.347387</td>\n",
       "      <td>-0.290431</td>\n",
       "      <td>0.326669</td>\n",
       "      <td>0.291311</td>\n",
       "      <td>1.000000</td>\n",
       "      <td>0.395384</td>\n",
       "      <td>0.286855</td>\n",
       "      <td>0.368850</td>\n",
       "      <td>0.258659</td>\n",
       "    </tr>\n",
       "    <tr>\n",
       "      <th>2016_Average_Salary</th>\n",
       "      <td>-0.837604</td>\n",
       "      <td>-0.817826</td>\n",
       "      <td>0.858608</td>\n",
       "      <td>0.820692</td>\n",
       "      <td>0.395384</td>\n",
       "      <td>1.000000</td>\n",
       "      <td>0.477715</td>\n",
       "      <td>0.976392</td>\n",
       "      <td>0.482681</td>\n",
       "    </tr>\n",
       "    <tr>\n",
       "      <th>2016_Job_Placement_Post_MBA</th>\n",
       "      <td>-0.620583</td>\n",
       "      <td>-0.580386</td>\n",
       "      <td>0.663893</td>\n",
       "      <td>0.600856</td>\n",
       "      <td>0.286855</td>\n",
       "      <td>0.477715</td>\n",
       "      <td>1.000000</td>\n",
       "      <td>0.487632</td>\n",
       "      <td>0.854633</td>\n",
       "    </tr>\n",
       "    <tr>\n",
       "      <th>2015_Average_Salary</th>\n",
       "      <td>-0.838824</td>\n",
       "      <td>-0.803622</td>\n",
       "      <td>0.851680</td>\n",
       "      <td>0.804283</td>\n",
       "      <td>0.368850</td>\n",
       "      <td>0.976392</td>\n",
       "      <td>0.487632</td>\n",
       "      <td>1.000000</td>\n",
       "      <td>0.497865</td>\n",
       "    </tr>\n",
       "    <tr>\n",
       "      <th>2015_Job_Placement_post_MBA</th>\n",
       "      <td>-0.630084</td>\n",
       "      <td>-0.616268</td>\n",
       "      <td>0.664604</td>\n",
       "      <td>0.636239</td>\n",
       "      <td>0.258659</td>\n",
       "      <td>0.482681</td>\n",
       "      <td>0.854633</td>\n",
       "      <td>0.497865</td>\n",
       "      <td>1.000000</td>\n",
       "    </tr>\n",
       "  </tbody>\n",
       "</table>\n",
       "</div>"
      ],
      "text/plain": [
       "                             Rank_2016  Rank_2015  Rank_2016_Index_Score  \\\n",
       "Rank_2016                     1.000000   0.905634              -0.980750   \n",
       "Rank_2015                     0.905634   1.000000              -0.901810   \n",
       "Rank_2016_Index_Score        -0.980750  -0.901810               1.000000   \n",
       "Rank_2015_Index_Score        -0.900291  -0.996163               0.903533   \n",
       "BMI-3                        -0.347387  -0.290431               0.326669   \n",
       "2016_Average_Salary          -0.837604  -0.817826               0.858608   \n",
       "2016_Job_Placement_Post_MBA  -0.620583  -0.580386               0.663893   \n",
       "2015_Average_Salary          -0.838824  -0.803622               0.851680   \n",
       "2015_Job_Placement_post_MBA  -0.630084  -0.616268               0.664604   \n",
       "\n",
       "                             Rank_2015_Index_Score     BMI-3  \\\n",
       "Rank_2016                                -0.900291 -0.347387   \n",
       "Rank_2015                                -0.996163 -0.290431   \n",
       "Rank_2016_Index_Score                     0.903533  0.326669   \n",
       "Rank_2015_Index_Score                     1.000000  0.291311   \n",
       "BMI-3                                     0.291311  1.000000   \n",
       "2016_Average_Salary                       0.820692  0.395384   \n",
       "2016_Job_Placement_Post_MBA               0.600856  0.286855   \n",
       "2015_Average_Salary                       0.804283  0.368850   \n",
       "2015_Job_Placement_post_MBA               0.636239  0.258659   \n",
       "\n",
       "                             2016_Average_Salary  2016_Job_Placement_Post_MBA  \\\n",
       "Rank_2016                              -0.837604                    -0.620583   \n",
       "Rank_2015                              -0.817826                    -0.580386   \n",
       "Rank_2016_Index_Score                   0.858608                     0.663893   \n",
       "Rank_2015_Index_Score                   0.820692                     0.600856   \n",
       "BMI-3                                   0.395384                     0.286855   \n",
       "2016_Average_Salary                     1.000000                     0.477715   \n",
       "2016_Job_Placement_Post_MBA             0.477715                     1.000000   \n",
       "2015_Average_Salary                     0.976392                     0.487632   \n",
       "2015_Job_Placement_post_MBA             0.482681                     0.854633   \n",
       "\n",
       "                             2015_Average_Salary  2015_Job_Placement_post_MBA  \n",
       "Rank_2016                              -0.838824                    -0.630084  \n",
       "Rank_2015                              -0.803622                    -0.616268  \n",
       "Rank_2016_Index_Score                   0.851680                     0.664604  \n",
       "Rank_2015_Index_Score                   0.804283                     0.636239  \n",
       "BMI-3                                   0.368850                     0.258659  \n",
       "2016_Average_Salary                     0.976392                     0.482681  \n",
       "2016_Job_Placement_Post_MBA             0.487632                     0.854633  \n",
       "2015_Average_Salary                     1.000000                     0.497865  \n",
       "2015_Job_Placement_post_MBA             0.497865                     1.000000  "
      ]
     },
     "execution_count": 10,
     "metadata": {},
     "output_type": "execute_result"
    }
   ],
   "source": [
    "#Check the co-relation\n",
    "data.corr()"
   ]
  },
  {
   "cell_type": "code",
   "execution_count": 11,
   "metadata": {},
   "outputs": [
    {
     "data": {
      "image/png": "[encoded data removed]",
      "text/plain": [
       "<matplotlib.figure.Figure at 0x1f093fce7f0>"
      ]
     },
     "metadata": {},
     "output_type": "display_data"
    }
   ],
   "source": [
    "#Firstly perform Linear Regression and check the fit\n",
    "import statsmodels.api as sm        \n",
    "x = data['Rank_2016_Index_Score']\n",
    "y = data['2016_Average_Salary']\n",
    "x = sm.add_constant(x)\n",
    "model = sm.OLS(y,x).fit()\n",
    "predictions = model.predict(x)\n",
    "#residual = y.values-predictions\n",
    "plt.scatter(x['Rank_2016_Index_Score'],y, color = 'red')\n",
    "plt.xlabel(\"Rank_2016_Index_Score\")\n",
    "plt.ylabel(\"2016_Average_Salary\")\n",
    "plt.plot(x['Rank_2016_Index_Score'],predictions, color = 'green')\n",
    "plt.show()"
   ]
  },
  {
   "cell_type": "code",
   "execution_count": 16,
   "metadata": {},
   "outputs": [
    {
     "data": {
      "image/png": "[encoded data removed]",
      "text/plain": [
       "<matplotlib.figure.Figure at 0x1f094a54780>"
      ]
     },
     "metadata": {},
     "output_type": "display_data"
    }
   ],
   "source": [
    "#Residual Plot\n",
    "import seaborn as sns\n",
    "x = data['Rank_2016_Index_Score']\n",
    "y = data['2016_Average_Salary']\n",
    "sns.residplot(x,y)\n",
    "plt.xlabel(\"'Rank_2016_Index_Score'\")\n",
    "plt.ylabel(\"Residual\")\n",
    "plt.show()"
   ]
  },
  {
   "cell_type": "code",
   "execution_count": 13,
   "metadata": {},
   "outputs": [
    {
     "data": {
      "text/html": [
       "<table class=\"simpletable\">\n",
       "<caption>OLS Regression Results</caption>\n",
       "<tr>\n",
       "  <th>Dep. Variable:</th>    <td>2016_Average_Salary</td> <th>  R-squared:         </th> <td>   0.737</td>\n",
       "</tr>\n",
       "<tr>\n",
       "  <th>Model:</th>                    <td>OLS</td>         <th>  Adj. R-squared:    </th> <td>   0.734</td>\n",
       "</tr>\n",
       "<tr>\n",
       "  <th>Method:</th>              <td>Least Squares</td>    <th>  F-statistic:       </th> <td>   244.1</td>\n",
       "</tr>\n",
       "<tr>\n",
       "  <th>Date:</th>              <td>Sat, 20 Jan 2018</td>   <th>  Prob (F-statistic):</th> <td>5.60e-27</td>\n",
       "</tr>\n",
       "<tr>\n",
       "  <th>Time:</th>                  <td>23:32:52</td>       <th>  Log-Likelihood:    </th> <td> -964.47</td>\n",
       "</tr>\n",
       "<tr>\n",
       "  <th>No. Observations:</th>       <td>    89</td>        <th>  AIC:               </th> <td>   1933.</td>\n",
       "</tr>\n",
       "<tr>\n",
       "  <th>Df Residuals:</th>           <td>    87</td>        <th>  BIC:               </th> <td>   1938.</td>\n",
       "</tr>\n",
       "<tr>\n",
       "  <th>Df Model:</th>               <td>     1</td>        <th>                     </th>     <td> </td>   \n",
       "</tr>\n",
       "<tr>\n",
       "  <th>Covariance Type:</th>       <td>nonrobust</td>      <th>                     </th>     <td> </td>   \n",
       "</tr>\n",
       "</table>\n",
       "<table class=\"simpletable\">\n",
       "<tr>\n",
       "            <td></td>               <th>coef</th>     <th>std err</th>      <th>t</th>      <th>P>|t|</th>  <th>[0.025</th>    <th>0.975]</th>  \n",
       "</tr>\n",
       "<tr>\n",
       "  <th>const</th>                 <td> 1.297e+04</td> <td> 5114.459</td> <td>    2.537</td> <td> 0.013</td> <td> 2807.931</td> <td> 2.31e+04</td>\n",
       "</tr>\n",
       "<tr>\n",
       "  <th>Rank_2016_Index_Score</th> <td> 1228.1377</td> <td>   78.614</td> <td>   15.622</td> <td> 0.000</td> <td> 1071.884</td> <td> 1384.391</td>\n",
       "</tr>\n",
       "</table>\n",
       "<table class=\"simpletable\">\n",
       "<tr>\n",
       "  <th>Omnibus:</th>       <td> 2.095</td> <th>  Durbin-Watson:     </th> <td>   1.546</td>\n",
       "</tr>\n",
       "<tr>\n",
       "  <th>Prob(Omnibus):</th> <td> 0.351</td> <th>  Jarque-Bera (JB):  </th> <td>   1.638</td>\n",
       "</tr>\n",
       "<tr>\n",
       "  <th>Skew:</th>          <td>-0.326</td> <th>  Prob(JB):          </th> <td>   0.441</td>\n",
       "</tr>\n",
       "<tr>\n",
       "  <th>Kurtosis:</th>      <td> 3.133</td> <th>  Cond. No.          </th> <td>    252.</td>\n",
       "</tr>\n",
       "</table>"
      ],
      "text/plain": [
       "<class 'statsmodels.iolib.summary.Summary'>\n",
       "\"\"\"\n",
       "                             OLS Regression Results                            \n",
       "===============================================================================\n",
       "Dep. Variable:     2016_Average_Salary   R-squared:                       0.737\n",
       "Model:                             OLS   Adj. R-squared:                  0.734\n",
       "Method:                  Least Squares   F-statistic:                     244.1\n",
       "Date:                 Sat, 20 Jan 2018   Prob (F-statistic):           5.60e-27\n",
       "Time:                         23:32:52   Log-Likelihood:                -964.47\n",
       "No. Observations:                   89   AIC:                             1933.\n",
       "Df Residuals:                       87   BIC:                             1938.\n",
       "Df Model:                            1                                         \n",
       "Covariance Type:             nonrobust                                         \n",
       "=========================================================================================\n",
       "                            coef    std err          t      P>|t|      [0.025      0.975]\n",
       "-----------------------------------------------------------------------------------------\n",
       "const                  1.297e+04   5114.459      2.537      0.013    2807.931    2.31e+04\n",
       "Rank_2016_Index_Score  1228.1377     78.614     15.622      0.000    1071.884    1384.391\n",
       "==============================================================================\n",
       "Omnibus:                        2.095   Durbin-Watson:                   1.546\n",
       "Prob(Omnibus):                  0.351   Jarque-Bera (JB):                1.638\n",
       "Skew:                          -0.326   Prob(JB):                        0.441\n",
       "Kurtosis:                       3.133   Cond. No.                         252.\n",
       "==============================================================================\n",
       "\n",
       "Warnings:\n",
       "[1] Standard Errors assume that the covariance matrix of the errors is correctly specified.\n",
       "\"\"\""
      ]
     },
     "execution_count": 13,
     "metadata": {},
     "output_type": "execute_result"
    }
   ],
   "source": [
    "#Model Summary - Linear Regression\n",
    "model.summary()"
   ]
  },
  {
   "cell_type": "code",
   "execution_count": 31,
   "metadata": {
    "collapsed": true
   },
   "outputs": [],
   "source": [
    "#Check for Multi-Linear Regression by considering 2 variables\n",
    "x = data[['Rank_2016_Index_Score', 'BMI-3']]\n",
    "y = data['2016_Average_Salary']\n",
    "x = sm.add_constant(x)\n",
    "model = sm.OLS(y,x).fit()\n",
    "predictions = model.predict(x)\n",
    "residual = y.values-predictions"
   ]
  },
  {
   "cell_type": "code",
   "execution_count": 18,
   "metadata": {},
   "outputs": [
    {
     "data": {
      "image/png": "[encoded data removed]",
      "text/plain": [
       "<matplotlib.figure.Figure at 0x1f094880e80>"
      ]
     },
     "metadata": {},
     "output_type": "display_data"
    }
   ],
   "source": [
    "plt.scatter(x['Rank_2016_Index_Score'],residual)\n",
    "plt.xlabel(\"Rank_2016_Index_Score\")\n",
    "plt.ylabel(\"Residual\")\n",
    "plt.show()"
   ]
  },
  {
   "cell_type": "code",
   "execution_count": 19,
   "metadata": {},
   "outputs": [
    {
     "data": {
      "text/html": [
       "<table class=\"simpletable\">\n",
       "<caption>OLS Regression Results</caption>\n",
       "<tr>\n",
       "  <th>Dep. Variable:</th>    <td>2016_Average_Salary</td> <th>  R-squared:         </th> <td>   0.752</td>\n",
       "</tr>\n",
       "<tr>\n",
       "  <th>Model:</th>                    <td>OLS</td>         <th>  Adj. R-squared:    </th> <td>   0.746</td>\n",
       "</tr>\n",
       "<tr>\n",
       "  <th>Method:</th>              <td>Least Squares</td>    <th>  F-statistic:       </th> <td>   130.4</td>\n",
       "</tr>\n",
       "<tr>\n",
       "  <th>Date:</th>              <td>Sat, 20 Jan 2018</td>   <th>  Prob (F-statistic):</th> <td>9.17e-27</td>\n",
       "</tr>\n",
       "<tr>\n",
       "  <th>Time:</th>                  <td>23:38:11</td>       <th>  Log-Likelihood:    </th> <td> -961.89</td>\n",
       "</tr>\n",
       "<tr>\n",
       "  <th>No. Observations:</th>       <td>    89</td>        <th>  AIC:               </th> <td>   1930.</td>\n",
       "</tr>\n",
       "<tr>\n",
       "  <th>Df Residuals:</th>           <td>    86</td>        <th>  BIC:               </th> <td>   1937.</td>\n",
       "</tr>\n",
       "<tr>\n",
       "  <th>Df Model:</th>               <td>     2</td>        <th>                     </th>     <td> </td>   \n",
       "</tr>\n",
       "<tr>\n",
       "  <th>Covariance Type:</th>       <td>nonrobust</td>      <th>                     </th>     <td> </td>   \n",
       "</tr>\n",
       "</table>\n",
       "<table class=\"simpletable\">\n",
       "<tr>\n",
       "            <td></td>               <th>coef</th>     <th>std err</th>      <th>t</th>      <th>P>|t|</th>  <th>[0.025</th>    <th>0.975]</th>  \n",
       "</tr>\n",
       "<tr>\n",
       "  <th>const</th>                 <td> 6847.2962</td> <td> 5683.002</td> <td>    1.205</td> <td> 0.232</td> <td>-4450.137</td> <td> 1.81e+04</td>\n",
       "</tr>\n",
       "<tr>\n",
       "  <th>Rank_2016_Index_Score</th> <td> 1168.0343</td> <td>   81.272</td> <td>   14.372</td> <td> 0.000</td> <td> 1006.470</td> <td> 1329.599</td>\n",
       "</tr>\n",
       "<tr>\n",
       "  <th>BMI-3</th>                 <td> 2108.7595</td> <td>  931.493</td> <td>    2.264</td> <td> 0.026</td> <td>  257.013</td> <td> 3960.506</td>\n",
       "</tr>\n",
       "</table>\n",
       "<table class=\"simpletable\">\n",
       "<tr>\n",
       "  <th>Omnibus:</th>       <td> 0.379</td> <th>  Durbin-Watson:     </th> <td>   1.393</td>\n",
       "</tr>\n",
       "<tr>\n",
       "  <th>Prob(Omnibus):</th> <td> 0.827</td> <th>  Jarque-Bera (JB):  </th> <td>   0.318</td>\n",
       "</tr>\n",
       "<tr>\n",
       "  <th>Skew:</th>          <td>-0.142</td> <th>  Prob(JB):          </th> <td>   0.853</td>\n",
       "</tr>\n",
       "<tr>\n",
       "  <th>Kurtosis:</th>      <td> 2.933</td> <th>  Cond. No.          </th> <td>    288.</td>\n",
       "</tr>\n",
       "</table>"
      ],
      "text/plain": [
       "<class 'statsmodels.iolib.summary.Summary'>\n",
       "\"\"\"\n",
       "                             OLS Regression Results                            \n",
       "===============================================================================\n",
       "Dep. Variable:     2016_Average_Salary   R-squared:                       0.752\n",
       "Model:                             OLS   Adj. R-squared:                  0.746\n",
       "Method:                  Least Squares   F-statistic:                     130.4\n",
       "Date:                 Sat, 20 Jan 2018   Prob (F-statistic):           9.17e-27\n",
       "Time:                         23:38:11   Log-Likelihood:                -961.89\n",
       "No. Observations:                   89   AIC:                             1930.\n",
       "Df Residuals:                       86   BIC:                             1937.\n",
       "Df Model:                            2                                         \n",
       "Covariance Type:             nonrobust                                         \n",
       "=========================================================================================\n",
       "                            coef    std err          t      P>|t|      [0.025      0.975]\n",
       "-----------------------------------------------------------------------------------------\n",
       "const                  6847.2962   5683.002      1.205      0.232   -4450.137    1.81e+04\n",
       "Rank_2016_Index_Score  1168.0343     81.272     14.372      0.000    1006.470    1329.599\n",
       "BMI-3                  2108.7595    931.493      2.264      0.026     257.013    3960.506\n",
       "==============================================================================\n",
       "Omnibus:                        0.379   Durbin-Watson:                   1.393\n",
       "Prob(Omnibus):                  0.827   Jarque-Bera (JB):                0.318\n",
       "Skew:                          -0.142   Prob(JB):                        0.853\n",
       "Kurtosis:                       2.933   Cond. No.                         288.\n",
       "==============================================================================\n",
       "\n",
       "Warnings:\n",
       "[1] Standard Errors assume that the covariance matrix of the errors is correctly specified.\n",
       "\"\"\""
      ]
     },
     "execution_count": 19,
     "metadata": {},
     "output_type": "execute_result"
    }
   ],
   "source": [
    "#Model summary - MultiLinear Regression\n",
    "model.summary()"
   ]
  },
  {
   "cell_type": "code",
   "execution_count": 29,
   "metadata": {},
   "outputs": [],
   "source": [
    "#Test data\n",
    "data_test= pd.DataFrame({'Rank_2016_Index_Score':[75,89,95,101], 'BMI-3':[5,6,7,8]})"
   ]
  },
  {
   "cell_type": "code",
   "execution_count": 33,
   "metadata": {},
   "outputs": [
    {
     "data": {
      "text/plain": [
       "0    170844.430455\n",
       "1    201535.097800\n",
       "2    215355.689109\n",
       "3    229176.280418\n",
       "dtype: float64"
      ]
     },
     "execution_count": 33,
     "metadata": {},
     "output_type": "execute_result"
    }
   ],
   "source": [
    "data_test = sm.add_constant(data_test)\n",
    "model.predict(data_test)"
   ]
  }
 ],
 "metadata": {
  "kernelspec": {
   "display_name": "Python 3",
   "language": "python",
   "name": "python3"
  },
  "language_info": {
   "codemirror_mode": {
    "name": "ipython",
    "version": 3
   },
   "file_extension": ".py",
   "mimetype": "text/x-python",
   "name": "python",
   "nbconvert_exporter": "python",
   "pygments_lexer": "ipython3",
   "version": "3.6.1"
  }
 },
 "nbformat": 4,
 "nbformat_minor": 2
}
